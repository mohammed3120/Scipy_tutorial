{
 "cells": [
  {
   "cell_type": "markdown",
   "id": "449b139a",
   "metadata": {},
   "source": [
    "# Sparse Data\n",
    "Sparse data is data that has mostly unused elements (elements that don't carry any information ).\n",
    "\n",
    "It can be an array like this one:\n",
    "\n",
    "[1, 0, 2, 0, 0, 3, 0, 0, 0, 0, 0, 0]\n",
    "\n",
    "Sparse Data: is a data set where most of the item values are zero.\n",
    "\n",
    "Dense Array: is the opposite of a sparse array: most of the values are not zero."
   ]
  },
  {
   "cell_type": "markdown",
   "id": "24437823",
   "metadata": {},
   "source": [
    "# Work With Sparse Data\n",
    "SciPy has a module, scipy.sparse that provides functions to deal with sparse data.\n",
    "\n",
    "There are primarily two types of sparse matrices that we use:\n",
    "\n",
    "CSC - Compressed Sparse Column. For efficient arithmetic, fast column slicing.\n",
    "\n",
    "CSR - Compressed Sparse Row. For fast row slicing, faster matrix vector products\n",
    "\n",
    "We will use the CSR matrix in this tutorial.\n",
    "\n",
    "### CSR Matrix\n",
    "We can create CSR matrix by passing an arrray into function scipy.sparse.csr_matrix()."
   ]
  },
  {
   "cell_type": "code",
   "execution_count": 1,
   "id": "d0eab733",
   "metadata": {},
   "outputs": [
    {
     "name": "stdout",
     "output_type": "stream",
     "text": [
      "  (0, 5)\t1\n",
      "  (0, 6)\t1\n",
      "  (0, 8)\t2\n"
     ]
    }
   ],
   "source": [
    "# Create a CSR matrix from an array:\n",
    "\n",
    "import numpy as np\n",
    "from scipy.sparse import csr_matrix\n",
    "\n",
    "arr = np.array([0, 0, 0, 0, 0, 1, 1, 0, 2])\n",
    "\n",
    "m = csr_matrix(arr)\n",
    "print(m)"
   ]
  },
  {
   "cell_type": "code",
   "execution_count": 2,
   "id": "5f7588d5",
   "metadata": {},
   "outputs": [],
   "source": [
    "# From the result we can see that there are 3 items with value.\n",
    "\n",
    "# The 1. item is in row 0 position 5 and has the value 1.\n",
    "\n",
    "# The 2. item is in row 0 position 6 and has the value 1.\n",
    "\n",
    "# The 3. item is in row 0 position 8 and has the value 2."
   ]
  },
  {
   "cell_type": "markdown",
   "id": "18ee1a4e",
   "metadata": {},
   "source": [
    "# Sparse Matrix Methods\n",
    "Viewing stored data (not the zero items) with the data property:"
   ]
  },
  {
   "cell_type": "code",
   "execution_count": 3,
   "id": "b701f594",
   "metadata": {},
   "outputs": [
    {
     "name": "stdout",
     "output_type": "stream",
     "text": [
      "  (1, 2)\t1\n",
      "  (2, 0)\t1\n",
      "  (2, 2)\t2\n",
      "[1 1 2]\n"
     ]
    }
   ],
   "source": [
    "arr = np.array([[0, 0, 0], [0, 0, 1], [1, 0, 2]])\n",
    "m2 = csr_matrix(arr)\n",
    "print(m2)\n",
    "print(m2.data)"
   ]
  },
  {
   "cell_type": "markdown",
   "id": "a7e7c1dd",
   "metadata": {},
   "source": [
    "### Counting nonzeros with the count_nonzero() method:"
   ]
  },
  {
   "cell_type": "code",
   "execution_count": 4,
   "id": "21ce327e",
   "metadata": {},
   "outputs": [
    {
     "name": "stdout",
     "output_type": "stream",
     "text": [
      "3\n"
     ]
    }
   ],
   "source": [
    "print(csr_matrix(arr).count_nonzero())"
   ]
  },
  {
   "cell_type": "markdown",
   "id": "a375517d",
   "metadata": {},
   "source": [
    "### Removing zero-entries from the matrix with the eliminate_zeros() method:"
   ]
  },
  {
   "cell_type": "code",
   "execution_count": 5,
   "id": "6f847544",
   "metadata": {},
   "outputs": [
    {
     "name": "stdout",
     "output_type": "stream",
     "text": [
      "  (1, 2)\t1\n",
      "  (2, 0)\t1\n",
      "  (2, 2)\t2\n"
     ]
    }
   ],
   "source": [
    "mat = csr_matrix(arr)\n",
    "mat.eliminate_zeros()\n",
    "\n",
    "print(mat)"
   ]
  },
  {
   "cell_type": "markdown",
   "id": "58899884",
   "metadata": {},
   "source": [
    "### Eliminating duplicate entries with the sum_duplicates() method:"
   ]
  },
  {
   "cell_type": "code",
   "execution_count": 6,
   "id": "68c62897",
   "metadata": {},
   "outputs": [
    {
     "name": "stdout",
     "output_type": "stream",
     "text": [
      "  (1, 2)\t1\n",
      "  (2, 0)\t1\n",
      "  (2, 2)\t2\n"
     ]
    }
   ],
   "source": [
    "# Eliminating duplicates by adding them:\n",
    "\n",
    "mat = csr_matrix(arr)\n",
    "mat.sum_duplicates()\n",
    "\n",
    "print(mat)"
   ]
  },
  {
   "cell_type": "markdown",
   "id": "0df31082",
   "metadata": {},
   "source": [
    "### Converting from csr to csc with the tocsc() method:"
   ]
  },
  {
   "cell_type": "code",
   "execution_count": 7,
   "id": "da9c57f0",
   "metadata": {},
   "outputs": [
    {
     "name": "stdout",
     "output_type": "stream",
     "text": [
      "  (2, 0)\t1\n",
      "  (1, 2)\t1\n",
      "  (2, 2)\t2\n"
     ]
    }
   ],
   "source": [
    "arr = np.array([[0, 0, 0], [0, 0, 1], [1, 0, 2]])\n",
    "newarr = csr_matrix(arr).tocsc()\n",
    "\n",
    "print(newarr)"
   ]
  },
  {
   "cell_type": "code",
   "execution_count": null,
   "id": "9b03fd7e",
   "metadata": {},
   "outputs": [],
   "source": []
  }
 ],
 "metadata": {
  "kernelspec": {
   "display_name": "Python 3 (ipykernel)",
   "language": "python",
   "name": "python3"
  },
  "language_info": {
   "codemirror_mode": {
    "name": "ipython",
    "version": 3
   },
   "file_extension": ".py",
   "mimetype": "text/x-python",
   "name": "python",
   "nbconvert_exporter": "python",
   "pygments_lexer": "ipython3",
   "version": "3.9.12"
  }
 },
 "nbformat": 4,
 "nbformat_minor": 5
}
